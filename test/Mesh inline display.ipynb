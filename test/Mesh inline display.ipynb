{
 "metadata": {
  "language": "Julia",
  "name": ""
 },
 "nbformat": 3,
 "nbformat_minor": 0,
 "worksheets": [
  {
   "cells": [
    {
     "cell_type": "code",
     "collapsed": false,
     "input": [
      "using Meshes\n",
      "\n",
      "data_path = Pkg.dir(\"Meshes\")*\"/test/data/\"\n",
      "\n",
      "ascii_stl1 = mesh(data_path*\"cube.stl\", topology=false)\n",
      "length(ascii_stl1.vertices)"
     ],
     "language": "python",
     "metadata": {},
     "outputs": [
      {
       "metadata": {},
       "output_type": "pyout",
       "prompt_number": 1,
       "text": [
        "36"
       ]
      }
     ],
     "prompt_number": 1
    },
    {
     "cell_type": "code",
     "collapsed": false,
     "input": [
      "import Base.writemime\n",
      "\n",
      "function writemime(io::IO, ::MIME\"text/html\", msh::Mesh)\n",
      "    write(io, \"\"\"\n",
      "    <div id=\"MYDIV\"></div>  \n",
      "  <script src=\"//cdnjs.cloudflare.com/ajax/libs/require.js/2.1.14/require.min.js\"></script>\n",
      "    <script src=\"/files/js/require-config.js\"></script>\n",
      "  <div id=\"mesh-display\"></div>\n",
      "  <script>\n",
      "  require([\n",
      "    '/files/js/display-mesh.js'], function(displayMesh){ displayMesh(\n",
      "    \"\"\")\n",
      "    exportToThreejs(msh, io, false)\n",
      "    write(io, \"\"\",\n",
      "    'MYDIV');\n",
      "    });\n",
      "    </script>\n",
      "    \"\"\")\n",
      "end\n",
      "\n",
      "ascii_stl1"
     ],
     "language": "python",
     "metadata": {},
     "outputs": [
      {
       "html": [
        "<div id=\"MYDIV\"></div>  \n",
        "<script src=\"//cdnjs.cloudflare.com/ajax/libs/require.js/2.1.14/require.min.js\"></script>\n",
        "<script src=\"/files/js/require-config.js\"></script>\n",
        "<div id=\"mesh-display\"></div>\n",
        "<script>\n",
        "require([\n",
        "'/files/js/display-mesh.js'], function(displayMesh){ displayMesh(\n",
        "{\"faces\":[0,0,1,2,0,3,4,5,0,6,7,8,0,9,10,11,0,12,13,14,0,15,16,17,0,18,19,20,0,21,22,23,0,24,25,26,0,27,28,29,0,30,31,32,0,33,34,35],\"vertices\":[0.0,0.0,10.0,0.0,10.0,10.0,0.0,0.0,0.0,0.0,0.0,0.0,0.0,10.0,10.0,0.0,10.0,0.0,0.0,0.0,10.0,10.0,0.0,10.0,10.0,10.0,10.0,0.0,10.0,10.0,0.0,0.0,10.0,10.0,10.0,10.0,0.0,0.0,0.0,10.0,0.0,0.0,10.0,0.0,10.0,0.0,0.0,10.0,0.0,0.0,0.0,10.0,0.0,10.0,0.0,10.0,0.0,10.0,10.0,0.0,0.0,0.0,0.0,0.0,0.0,0.0,10.0,10.0,0.0,10.0,0.0,0.0,0.0,10.0,10.0,10.0,10.0,10.0,0.0,10.0,0.0,0.0,10.0,0.0,10.0,10.0,10.0,10.0,10.0,0.0,10.0,0.0,0.0,10.0,10.0,0.0,10.0,10.0,10.0,10.0,0.0,10.0,10.0,0.0,0.0,10.0,10.0,10.0],\"metadata\":{\"formatVersion\":3}},\n",
        "'MYDIV');\n",
        "});\n",
        "</script>\n"
       ],
       "metadata": {},
       "output_type": "pyout",
       "prompt_number": 2,
       "text": [
        "Mesh([[0.0,0.0,10.0],[0.0,10.0,10.0],[0.0,0.0,0.0],[0.0,0.0,0.0],[0.0,10.0,10.0],[0.0,10.0,0.0],[0.0,0.0,10.0],[10.0,0.0,10.0],[10.0,10.0,10.0],[0.0,10.0,10.0]  \u2026  [0.0,10.0,0.0],[0.0,10.0,0.0],[10.0,10.0,10.0],[10.0,10.0,0.0],[10.0,0.0,0.0],[10.0,10.0,0.0],[10.0,10.0,10.0],[10.0,0.0,10.0],[10.0,0.0,0.0],[10.0,10.0,10.0]],[Face(1,2,3),Face(4,5,6),Face(7,8,9),Face(10,11,12),Face(13,14,15),Face(16,17,18),Face(19,20,21),Face(22,23,24),Face(25,26,27),Face(28,29,30),Face(31,32,33),Face(34,35,36)],false)"
       ]
      }
     ],
     "prompt_number": 2
    },
    {
     "cell_type": "code",
     "collapsed": false,
     "input": [],
     "language": "python",
     "metadata": {},
     "outputs": []
    }
   ],
   "metadata": {}
  }
 ]
}